{
 "cells": [
  {
   "cell_type": "code",
   "execution_count": 4,
   "metadata": {
    "collapsed": false
   },
   "outputs": [],
   "source": [
    "#load packages and set file paths.\n",
    "import pandas as pd\n",
    "import numpy as np\n",
    "import matplotlib.pyplot as plt\n",
    "import seaborn as sns\n",
    "\n",
    "%matplotlib inline\n"
   ]
  },
  {
   "cell_type": "code",
   "execution_count": 5,
   "metadata": {
    "collapsed": true
   },
   "outputs": [],
   "source": [
    "train_loc= r\"C:\\Users\\Kushagra Jalota\\train.csv\"\n",
    "test_loc = r\"C:\\Users\\Kushagra Jalota\\test.csv\""
   ]
  },
  {
   "cell_type": "code",
   "execution_count": 7,
   "metadata": {
    "collapsed": false
   },
   "outputs": [
    {
     "name": "stdout",
     "output_type": "stream",
     "text": [
      "(614, 13) (367, 12) (981, 13)\n"
     ]
    }
   ],
   "source": [
    "train = pd.read_csv(train_loc)\n",
    "test = pd.read_csv(test_loc)\n",
    "data = pd.concat([train,test])\n",
    "\n",
    "print (train.shape, test.shape, data.shape)"
   ]
  },
  {
   "cell_type": "code",
   "execution_count": 8,
   "metadata": {
    "collapsed": false
   },
   "outputs": [
    {
     "name": "stdout",
     "output_type": "stream",
     "text": [
      "<class 'pandas.core.frame.DataFrame'>\n",
      "Int64Index: 981 entries, 0 to 366\n",
      "Data columns (total 13 columns):\n",
      "ApplicantIncome      981 non-null int64\n",
      "CoapplicantIncome    981 non-null float64\n",
      "Credit_History       902 non-null float64\n",
      "Dependents           956 non-null object\n",
      "Education            981 non-null object\n",
      "Gender               957 non-null object\n",
      "LoanAmount           954 non-null float64\n",
      "Loan_Amount_Term     961 non-null float64\n",
      "Loan_ID              981 non-null object\n",
      "Loan_Status          614 non-null object\n",
      "Married              978 non-null object\n",
      "Property_Area        981 non-null object\n",
      "Self_Employed        926 non-null object\n",
      "dtypes: float64(4), int64(1), object(8)\n",
      "memory usage: 107.3+ KB\n"
     ]
    }
   ],
   "source": [
    "#we're working with a dataset with under 1000 samples.\n",
    "#let's take a look at the dataset\n",
    "\n",
    "data.info()"
   ]
  },
  {
   "cell_type": "code",
   "execution_count": 9,
   "metadata": {
    "collapsed": false
   },
   "outputs": [
    {
     "data": {
      "text/html": [
       "<div>\n",
       "<table border=\"1\" class=\"dataframe\">\n",
       "  <thead>\n",
       "    <tr style=\"text-align: right;\">\n",
       "      <th></th>\n",
       "      <th>ApplicantIncome</th>\n",
       "      <th>CoapplicantIncome</th>\n",
       "      <th>Credit_History</th>\n",
       "      <th>Dependents</th>\n",
       "      <th>Education</th>\n",
       "      <th>Gender</th>\n",
       "      <th>LoanAmount</th>\n",
       "      <th>Loan_Amount_Term</th>\n",
       "      <th>Loan_ID</th>\n",
       "      <th>Loan_Status</th>\n",
       "      <th>Married</th>\n",
       "      <th>Property_Area</th>\n",
       "      <th>Self_Employed</th>\n",
       "    </tr>\n",
       "  </thead>\n",
       "  <tbody>\n",
       "    <tr>\n",
       "      <th>0</th>\n",
       "      <td>5849</td>\n",
       "      <td>0.0</td>\n",
       "      <td>1.0</td>\n",
       "      <td>0</td>\n",
       "      <td>Graduate</td>\n",
       "      <td>Male</td>\n",
       "      <td>NaN</td>\n",
       "      <td>360.0</td>\n",
       "      <td>LP001002</td>\n",
       "      <td>Y</td>\n",
       "      <td>No</td>\n",
       "      <td>Urban</td>\n",
       "      <td>No</td>\n",
       "    </tr>\n",
       "    <tr>\n",
       "      <th>1</th>\n",
       "      <td>4583</td>\n",
       "      <td>1508.0</td>\n",
       "      <td>1.0</td>\n",
       "      <td>1</td>\n",
       "      <td>Graduate</td>\n",
       "      <td>Male</td>\n",
       "      <td>128.0</td>\n",
       "      <td>360.0</td>\n",
       "      <td>LP001003</td>\n",
       "      <td>N</td>\n",
       "      <td>Yes</td>\n",
       "      <td>Rural</td>\n",
       "      <td>No</td>\n",
       "    </tr>\n",
       "    <tr>\n",
       "      <th>2</th>\n",
       "      <td>3000</td>\n",
       "      <td>0.0</td>\n",
       "      <td>1.0</td>\n",
       "      <td>0</td>\n",
       "      <td>Graduate</td>\n",
       "      <td>Male</td>\n",
       "      <td>66.0</td>\n",
       "      <td>360.0</td>\n",
       "      <td>LP001005</td>\n",
       "      <td>Y</td>\n",
       "      <td>Yes</td>\n",
       "      <td>Urban</td>\n",
       "      <td>Yes</td>\n",
       "    </tr>\n",
       "    <tr>\n",
       "      <th>3</th>\n",
       "      <td>2583</td>\n",
       "      <td>2358.0</td>\n",
       "      <td>1.0</td>\n",
       "      <td>0</td>\n",
       "      <td>Not Graduate</td>\n",
       "      <td>Male</td>\n",
       "      <td>120.0</td>\n",
       "      <td>360.0</td>\n",
       "      <td>LP001006</td>\n",
       "      <td>Y</td>\n",
       "      <td>Yes</td>\n",
       "      <td>Urban</td>\n",
       "      <td>No</td>\n",
       "    </tr>\n",
       "    <tr>\n",
       "      <th>4</th>\n",
       "      <td>6000</td>\n",
       "      <td>0.0</td>\n",
       "      <td>1.0</td>\n",
       "      <td>0</td>\n",
       "      <td>Graduate</td>\n",
       "      <td>Male</td>\n",
       "      <td>141.0</td>\n",
       "      <td>360.0</td>\n",
       "      <td>LP001008</td>\n",
       "      <td>Y</td>\n",
       "      <td>No</td>\n",
       "      <td>Urban</td>\n",
       "      <td>No</td>\n",
       "    </tr>\n",
       "  </tbody>\n",
       "</table>\n",
       "</div>"
      ],
      "text/plain": [
       "   ApplicantIncome  CoapplicantIncome  Credit_History Dependents  \\\n",
       "0             5849                0.0             1.0          0   \n",
       "1             4583             1508.0             1.0          1   \n",
       "2             3000                0.0             1.0          0   \n",
       "3             2583             2358.0             1.0          0   \n",
       "4             6000                0.0             1.0          0   \n",
       "\n",
       "      Education Gender  LoanAmount  Loan_Amount_Term   Loan_ID Loan_Status  \\\n",
       "0      Graduate   Male         NaN             360.0  LP001002           Y   \n",
       "1      Graduate   Male       128.0             360.0  LP001003           N   \n",
       "2      Graduate   Male        66.0             360.0  LP001005           Y   \n",
       "3  Not Graduate   Male       120.0             360.0  LP001006           Y   \n",
       "4      Graduate   Male       141.0             360.0  LP001008           Y   \n",
       "\n",
       "  Married Property_Area Self_Employed  \n",
       "0      No         Urban            No  \n",
       "1     Yes         Rural            No  \n",
       "2     Yes         Urban           Yes  \n",
       "3     Yes         Urban            No  \n",
       "4      No         Urban            No  "
      ]
     },
     "execution_count": 9,
     "metadata": {},
     "output_type": "execute_result"
    }
   ],
   "source": [
    "data.head()\n"
   ]
  },
  {
   "cell_type": "code",
   "execution_count": 10,
   "metadata": {
    "collapsed": false
   },
   "outputs": [
    {
     "data": {
      "text/plain": [
       "Y    422\n",
       "N    192\n",
       "Name: Loan_Status, dtype: int64"
      ]
     },
     "execution_count": 10,
     "metadata": {},
     "output_type": "execute_result"
    }
   ],
   "source": [
    "#check the distribution of the target variable Loan_Status\n",
    "train.Loan_Status.value_counts()\n",
    "\n",
    "#68.7% of loans are approved by the company. [(422/614)*100=68.7%]"
   ]
  },
  {
   "cell_type": "code",
   "execution_count": 11,
   "metadata": {
    "collapsed": false
   },
   "outputs": [
    {
     "data": {
      "image/png": "[encoded data removed]",
      "text/plain": [
       "<matplotlib.figure.Figure at 0x2ecb5fa3518>"
      ]
     },
     "metadata": {},
     "output_type": "display_data"
    }
   ],
   "source": [
    "#check the correlation of the numerical feautres\n",
    "\n",
    "corr = train.select_dtypes(include = ['float64', 'int64']).corr()\n",
    "plt.figure(figsize=(6, 6))\n",
    "sns.heatmap(corr, vmax=1, square=True)\n",
    "\n",
    "#unsuprisingly applicant income and coapplicant income are positively correlated\n",
    "#with loan amount.\n",
    "plt.show()"
   ]
  },
  {
   "cell_type": "code",
   "execution_count": 12,
   "metadata": {
    "collapsed": false
   },
   "outputs": [
    {
     "data": {
      "text/plain": [
       "ApplicantIncome      752\n",
       "CoapplicantIncome    437\n",
       "Credit_History         3\n",
       "Dependents             5\n",
       "Education              2\n",
       "Gender                 3\n",
       "LoanAmount           233\n",
       "Loan_Amount_Term      13\n",
       "Loan_ID              981\n",
       "Loan_Status            3\n",
       "Married                3\n",
       "Property_Area          3\n",
       "Self_Employed          3\n",
       "dtype: int64"
      ]
     },
     "execution_count": 12,
     "metadata": {},
     "output_type": "execute_result"
    }
   ],
   "source": [
    "#check amount of unique values in data.\n",
    "data.apply(lambda x: len(x.unique()))"
   ]
  },
  {
   "cell_type": "code",
   "execution_count": 14,
   "metadata": {
    "collapsed": false
   },
   "outputs": [
    {
     "data": {
      "text/plain": [
       "ApplicantIncome        0\n",
       "CoapplicantIncome      0\n",
       "Credit_History        79\n",
       "Dependents            25\n",
       "Education              0\n",
       "Gender                24\n",
       "LoanAmount            27\n",
       "Loan_Amount_Term      20\n",
       "Loan_ID                0\n",
       "Loan_Status          367\n",
       "Married                3\n",
       "Property_Area          0\n",
       "Self_Employed         55\n",
       "dtype: int64"
      ]
     },
     "execution_count": 14,
     "metadata": {},
     "output_type": "execute_result"
    }
   ],
   "source": [
    "#check for NaNs.\n",
    "data.apply(lambda x: sum(x.isnull()))"
   ]
  },
  {
   "cell_type": "code",
   "execution_count": 15,
   "metadata": {
    "collapsed": false
   },
   "outputs": [
    {
     "name": "stdout",
     "output_type": "stream",
     "text": [
      "50 29\n"
     ]
    }
   ],
   "source": [
    "print (sum(train.Credit_History.isnull()), sum(test.Credit_History.isnull()))"
   ]
  },
  {
   "cell_type": "code",
   "execution_count": 18,
   "metadata": {
    "collapsed": true
   },
   "outputs": [],
   "source": [
    "#We have 79 nulls in the Credit History column. They are spread between both\n",
    "#the train and the test set. Let's change the column to a column of string\n",
    "#type with values 'Yes', 'No', 'Unknown'.\n",
    "\n",
    "replace_dict = {1.0:'Yes', 0.0:'No'}\n",
    "\n",
    "train.Credit_History = train.Credit_History.replace(replace_dict)\n",
    "test.Credit_History = test.Credit_History.replace(replace_dict)\n",
    "train.Credit_History = train.Credit_History.fillna('Unknown')\n",
    "test.Credit_History = test.Credit_History.fillna('Unknown')"
   ]
  },
  {
   "cell_type": "code",
   "execution_count": 19,
   "metadata": {
    "collapsed": false
   },
   "outputs": [
    {
     "name": "stdout",
     "output_type": "stream",
     "text": [
      "0 0\n"
     ]
    }
   ],
   "source": [
    "print (sum(train.Credit_History.isnull()), sum(test.Credit_History.isnull())) #Checking the values"
   ]
  },
  {
   "cell_type": "code",
   "execution_count": 20,
   "metadata": {
    "collapsed": false
   },
   "outputs": [
    {
     "name": "stdout",
     "output_type": "stream",
     "text": [
      "15 10\n"
     ]
    }
   ],
   "source": [
    "print (sum(train.Dependents.isnull()), sum(test.Dependents.isnull()))"
   ]
  },
  {
   "cell_type": "code",
   "execution_count": 22,
   "metadata": {
    "collapsed": true
   },
   "outputs": [],
   "source": [
    "#There are 25 nulls in the Dependents column. They are spread between both\n",
    "#the train and the test set. Let's repeat the data tidying process we used on\n",
    "#the Credit History column.\n",
    "\n",
    "replace_dict = {'0':'0', '1':'1', '2':'2', '3+':'3'}\n",
    "\n",
    "train.Dependents = train.Dependents.replace(replace_dict)\n",
    "test.Dependents = test.Dependents.replace(replace_dict)\n",
    "train.Dependents = train.Dependents.fillna('Unknown')\n",
    "test.Dependents = test.Dependents.fillna('Unknown')"
   ]
  },
  {
   "cell_type": "code",
   "execution_count": 23,
   "metadata": {
    "collapsed": false
   },
   "outputs": [
    {
     "name": "stdout",
     "output_type": "stream",
     "text": [
      "0 0\n"
     ]
    }
   ],
   "source": [
    "print (sum(train.Dependents.isnull()), sum(test.Dependents.isnull()))  #Checking the values"
   ]
  },
  {
   "cell_type": "code",
   "execution_count": 24,
   "metadata": {
    "collapsed": false
   },
   "outputs": [
    {
     "name": "stdout",
     "output_type": "stream",
     "text": [
      "13 11\n"
     ]
    }
   ],
   "source": [
    "print (sum(train.Gender.isnull()), sum(test.Gender.isnull()))"
   ]
  },
  {
   "cell_type": "code",
   "execution_count": 27,
   "metadata": {
    "collapsed": true
   },
   "outputs": [],
   "source": [
    "#There are 24 nulls in the Gender column. They are spread between both\n",
    "#the train and the test set. Let's replace them with a string value again.\n",
    "\n",
    "train.Gender = train.Gender.fillna('Unknown')\n",
    "test.Gender = test.Gender.fillna('Unknown')"
   ]
  },
  {
   "cell_type": "code",
   "execution_count": 28,
   "metadata": {
    "collapsed": false
   },
   "outputs": [
    {
     "name": "stdout",
     "output_type": "stream",
     "text": [
      "0 0\n"
     ]
    }
   ],
   "source": [
    "print (sum(train.Gender.isnull()), sum(test.Gender.isnull()))"
   ]
  },
  {
   "cell_type": "code",
   "execution_count": 29,
   "metadata": {
    "collapsed": false
   },
   "outputs": [
    {
     "name": "stdout",
     "output_type": "stream",
     "text": [
      "32 23\n"
     ]
    }
   ],
   "source": [
    "print (sum(train.Self_Employed.isnull()), sum(test.Self_Employed.isnull()))"
   ]
  },
  {
   "cell_type": "code",
   "execution_count": 30,
   "metadata": {
    "collapsed": true
   },
   "outputs": [],
   "source": [
    "#There are 55 nulls in the Self_Employed column. They are spread between both\n",
    "#the train and the test set. Let's repeat the data tidying process we used on\n",
    "#the Self_Employed column.\n",
    "\n",
    "train.Self_Employed = train.Self_Employed.fillna('Unknown')\n",
    "test.Self_Employed = test.Self_Employed.fillna('Unknown')"
   ]
  },
  {
   "cell_type": "code",
   "execution_count": 31,
   "metadata": {
    "collapsed": false
   },
   "outputs": [
    {
     "name": "stdout",
     "output_type": "stream",
     "text": [
      "3 0\n"
     ]
    }
   ],
   "source": [
    "print (sum(train.Married.isnull()), sum(test.Married.isnull()))"
   ]
  },
  {
   "cell_type": "code",
   "execution_count": 32,
   "metadata": {
    "collapsed": true
   },
   "outputs": [],
   "source": [
    "#There are 3 nulls in the Married column. Only the train set contains null values.\n",
    "#This is not a problem. However, one must remember to take extra caution when creating dummy\n",
    "#variables prior to feeding the data into models.\n",
    "\n",
    "train.Married = train.Married.fillna('Unknown')"
   ]
  },
  {
   "cell_type": "code",
   "execution_count": 33,
   "metadata": {
    "collapsed": false
   },
   "outputs": [
    {
     "name": "stdout",
     "output_type": "stream",
     "text": [
      "14 6\n"
     ]
    }
   ],
   "source": [
    "print (sum(train.Loan_Amount_Term.isnull()), sum(test.Loan_Amount_Term.isnull()))"
   ]
  },
  {
   "cell_type": "code",
   "execution_count": 34,
   "metadata": {
    "collapsed": true
   },
   "outputs": [],
   "source": [
    "#There are 20 nulls in the Loan_Amount_Term column. Replace them with mean values\n",
    "#for each differnt group (based on the categorical columns).\n",
    "\n",
    "train.Loan_Amount_Term = train.groupby(['Gender', 'Dependents','Education','ApplicantIncome',\n",
    "                                        'Married','Property_Area', 'Self_Employed']).Loan_Amount_Term.transform(\n",
    "                                            lambda x: x.fillna(x.mean()))\n",
    "\n",
    "test.Loan_Amount_Term = test.groupby(['Gender', 'Dependents','Education','ApplicantIncome',\n",
    "                                        'Married','Property_Area', 'Self_Employed']).Loan_Amount_Term.transform(\n",
    "                                            lambda x: x.fillna(x.mean()))"
   ]
  },
  {
   "cell_type": "code",
   "execution_count": 35,
   "metadata": {
    "collapsed": false
   },
   "outputs": [
    {
     "name": "stdout",
     "output_type": "stream",
     "text": [
      "22 5\n"
     ]
    }
   ],
   "source": [
    "print (sum(train.LoanAmount.isnull()), sum(test.LoanAmount.isnull()))"
   ]
  },
  {
   "cell_type": "code",
   "execution_count": 36,
   "metadata": {
    "collapsed": true
   },
   "outputs": [],
   "source": [
    "#There are also null values in the loan amount column. Repeat the process used above.\n",
    "\n",
    "train.LoanAmount = train.groupby(['Gender', 'Dependents','Education','ApplicantIncome',\n",
    "                                  'Married','Property_Area', 'Self_Employed']).LoanAmount.transform(\n",
    "                                            lambda x: x.fillna(x.mean()))\n",
    "\n",
    "test.LoanAmount = test.groupby(['Gender', 'Dependents','Education','ApplicantIncome',\n",
    "                                'Married','Property_Area', 'Self_Employed']).LoanAmount.transform(\n",
    "                                            lambda x: x.fillna(x.mean()))"
   ]
  },
  {
   "cell_type": "code",
   "execution_count": 38,
   "metadata": {
    "collapsed": false
   },
   "outputs": [
    {
     "name": "stdout",
     "output_type": "stream",
     "text": [
      "[  0  19  35  36  44  45  63  73  81  95 102 103 112 113 127 165 197 202\n",
      " 223 232 284 305 322 335 338 367 387 421 423 435 437 479 524 550 551 605] [ 45  48  78 101 117 129 184 188 214 247 289]\n"
     ]
    }
   ],
   "source": [
    "inds = pd.isnull(train).any(1).nonzero()[0]\n",
    "inds2 = pd.isnull(test).any(1).nonzero()[0]\n",
    "print (inds, inds2)"
   ]
  },
  {
   "cell_type": "code",
   "execution_count": 39,
   "metadata": {
    "collapsed": true
   },
   "outputs": [],
   "source": [
    "#We can see that are still some NaNs left. Let's fill them in with the average\n",
    "#for the column.\n",
    "\n",
    "train.Loan_Amount_Term = train.Loan_Amount_Term.fillna(train.Loan_Amount_Term.mean())\n",
    "test.Loan_Amount_Term = test.Loan_Amount_Term.fillna(test.Loan_Amount_Term.mean())\n",
    "train.LoanAmount = train.LoanAmount.fillna(train.LoanAmount.mean())\n",
    "test.LoanAmount = test.LoanAmount.fillna(test.LoanAmount.mean())"
   ]
  },
  {
   "cell_type": "code",
   "execution_count": 40,
   "metadata": {
    "collapsed": false
   },
   "outputs": [
    {
     "data": {
      "text/plain": [
       "ApplicantIncome        0\n",
       "CoapplicantIncome      0\n",
       "Credit_History         0\n",
       "Dependents             0\n",
       "Education              0\n",
       "Gender                 0\n",
       "LoanAmount             0\n",
       "Loan_Amount_Term       0\n",
       "Loan_ID                0\n",
       "Loan_Status          367\n",
       "Married                0\n",
       "Property_Area          0\n",
       "Self_Employed          0\n",
       "dtype: int64"
      ]
     },
     "execution_count": 40,
     "metadata": {},
     "output_type": "execute_result"
    }
   ],
   "source": [
    "data = pd.concat([train, test])\n",
    "\n",
    "data.apply(lambda x: sum(x.isnull()))"
   ]
  },
  {
   "cell_type": "code",
   "execution_count": 41,
   "metadata": {
    "collapsed": true
   },
   "outputs": [],
   "source": [
    "#Excellent. Now the only null values in our data set are the target values we\n",
    "#aim to predict. Let's save the train and test sets as separate CSV files and start\n",
    "#a new python file.\n",
    "\n",
    "train.to_csv('claim_trainnew.csv', index=False)\n",
    "test.to_csv('claim_testnew.csv', index=False)"
   ]
  },
  {
   "cell_type": "code",
   "execution_count": null,
   "metadata": {
    "collapsed": true
   },
   "outputs": [],
   "source": []
  }
 ],
 "metadata": {
  "anaconda-cloud": {},
  "kernelspec": {
   "display_name": "Python [conda root]",
   "language": "python",
   "name": "conda-root-py"
  },
  "language_info": {
   "codemirror_mode": {
    "name": "ipython",
    "version": 3
   },
   "file_extension": ".py",
   "mimetype": "text/x-python",
   "name": "python",
   "nbconvert_exporter": "python",
   "pygments_lexer": "ipython3",
   "version": "3.5.2"
  }
 },
 "nbformat": 4,
 "nbformat_minor": 0
}
